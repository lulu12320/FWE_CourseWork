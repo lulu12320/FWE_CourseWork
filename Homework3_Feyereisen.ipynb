{
 "cells": [
  {
   "cell_type": "code",
   "execution_count": 38,
   "id": "b7e474aa-4bdc-404a-873f-2a29f5ca51a5",
   "metadata": {},
   "outputs": [
    {
     "name": "stdout",
     "output_type": "stream",
     "text": [
      "   Year  Month  Decimal_date  Monthly_average  deseasonalized  numofdays  \\\n",
      "0  1958      3     1958.2027           315.70          314.43         -1   \n",
      "1  1958      4     1958.2877           317.45          315.16         -1   \n",
      "2  1958      5     1958.3699           317.51          314.71         -1   \n",
      "3  1958      6     1958.4548           317.24          315.14         -1   \n",
      "4  1958      7     1958.5370           315.86          315.18         -1   \n",
      "\n",
      "   stdofdays      site  \n",
      "0      -9.99  MaunaLoa  \n",
      "1      -9.99  MaunaLoa  \n",
      "2      -9.99  MaunaLoa  \n",
      "3      -9.99  MaunaLoa  \n",
      "4      -9.99  MaunaLoa  \n"
     ]
    }
   ],
   "source": [
    "# Import Data \n",
    "\n",
    "import pandas as pd # load the dataset into a pandas dataframe\n",
    "\n",
    "file_path = 'MaunaLoaCO2_monthly_sitename.csv' # defining the data \n",
    "data = pd.read_csv(file_path) # reading the data\n",
    "\n",
    "print(data.head()) # display the first few rows "
   ]
  },
  {
   "cell_type": "code",
   "execution_count": 39,
   "id": "1103bda8-d23f-4a90-8c1b-37ba08f9de37",
   "metadata": {},
   "outputs": [
    {
     "name": "stdout",
     "output_type": "stream",
     "text": [
      "     Year  Month  Decimal_date  Monthly_average  deseasonalized  numofdays  \\\n",
      "10   1959      1     1959.0411           315.58          315.55         -1   \n",
      "11   1959      2     1959.1260           316.48          315.86         -1   \n",
      "12   1959      3     1959.2027           316.65          315.38         -1   \n",
      "13   1959      4     1959.2877           317.72          315.41         -1   \n",
      "14   1959      5     1959.3699           318.29          315.49         -1   \n",
      "..    ...    ...           ...              ...             ...        ...   \n",
      "761  2021      8     2021.6250           414.47          416.49         26   \n",
      "762  2021      9     2021.7083           413.30          416.90         27   \n",
      "763  2021     10     2021.7917           413.93          417.30         29   \n",
      "764  2021     11     2021.8750           415.01          417.07         30   \n",
      "765  2021     12     2021.9583           416.71          417.44         28   \n",
      "\n",
      "     stdofdays      site  \n",
      "10       -9.99  MaunaLoa  \n",
      "11       -9.99  MaunaLoa  \n",
      "12       -9.99  MaunaLoa  \n",
      "13       -9.99  MaunaLoa  \n",
      "14       -9.99  MaunaLoa  \n",
      "..         ...       ...  \n",
      "761       0.72  MaunaLoa  \n",
      "762       0.29  MaunaLoa  \n",
      "763       0.35  MaunaLoa  \n",
      "764       0.36  MaunaLoa  \n",
      "765       0.48  MaunaLoa  \n",
      "\n",
      "[756 rows x 8 columns]\n"
     ]
    }
   ],
   "source": [
    "# Filter Data (exclude data from the years 1958 and 2022)\n",
    "\n",
    "filtered_data = data[(data['Year'] != 1958) & (data['Year'] != 2022)] # != used as not equal to \n",
    "print(filtered_data)"
   ]
  },
  {
   "cell_type": "code",
   "execution_count": 40,
   "id": "c17fd8ff-e7ac-4cff-b50f-bb326a196b26",
   "metadata": {},
   "outputs": [
    {
     "name": "stdout",
     "output_type": "stream",
     "text": [
      "     Year  Month  Decimal_date  Monthly_average  deseasonalized  numofdays  \\\n",
      "194  1974      5     1974.3750           333.19          330.22         13   \n",
      "195  1974      6     1974.4583           332.20          329.78         25   \n",
      "196  1974      7     1974.5417           331.07          330.21         24   \n",
      "197  1974      8     1974.6250           329.15          330.54         26   \n",
      "198  1974      9     1974.7083           327.33          330.44         22   \n",
      "..    ...    ...           ...              ...             ...        ...   \n",
      "761  2021      8     2021.6250           414.47          416.49         26   \n",
      "762  2021      9     2021.7083           413.30          416.90         27   \n",
      "763  2021     10     2021.7917           413.93          417.30         29   \n",
      "764  2021     11     2021.8750           415.01          417.07         30   \n",
      "765  2021     12     2021.9583           416.71          417.44         28   \n",
      "\n",
      "     stdofdays      site  \n",
      "194       0.31  MaunaLoa  \n",
      "195       0.37  MaunaLoa  \n",
      "196       0.24  MaunaLoa  \n",
      "197       0.31  MaunaLoa  \n",
      "198       0.47  MaunaLoa  \n",
      "..         ...       ...  \n",
      "761       0.72  MaunaLoa  \n",
      "762       0.29  MaunaLoa  \n",
      "763       0.35  MaunaLoa  \n",
      "764       0.36  MaunaLoa  \n",
      "765       0.48  MaunaLoa  \n",
      "\n",
      "[570 rows x 8 columns]\n"
     ]
    }
   ],
   "source": [
    "# Filter Data (remove rows where \"numofdays\" or \"stdofdays\" contain invalid (negative) values)\n",
    "\n",
    "filtered_data = filtered_data[(filtered_data['numofdays'] >= 0) & (filtered_data['stdofdays'] >= 0)] # >= used to filter out negative values\n",
    "print(filtered_data)"
   ]
  },
  {
   "cell_type": "code",
   "execution_count": 58,
   "id": "a10999be-8686-49ad-92cd-fa0c005ff617",
   "metadata": {},
   "outputs": [
    {
     "name": "stdout",
     "output_type": "stream",
     "text": [
      "   Year  annual_average\n",
      "0  1974      329.763750\n",
      "1  1975      331.160909\n",
      "2  1976      332.026667\n",
      "3  1977      333.843333\n",
      "4  1978      335.415000\n"
     ]
    }
   ],
   "source": [
    "# Compute Annual Statistics (annual average CO₂ concentration)\n",
    "\n",
    "annual_average = filtered_data.groupby('Year')['Monthly_average'].mean().reset_index(name = 'annual_average') # filtering data, grouped by year, and using monthly average column to calculate the mean\n",
    "print(annual_average.head()) # saving the new annual_average dataframe"
   ]
  },
  {
   "cell_type": "code",
   "execution_count": 56,
   "id": "d875287c-d9d1-4931-ada0-a402fddcdf98",
   "metadata": {},
   "outputs": [
    {
     "name": "stdout",
     "output_type": "stream",
     "text": [
      "   Year  deseasonalized_annual_average\n",
      "0  1974                     330.346250\n",
      "1  1975                     331.072727\n",
      "2  1976                     332.028333\n",
      "3  1977                     333.841667\n",
      "4  1978                     335.413333\n"
     ]
    }
   ],
   "source": [
    "# Compute Annual Statistics (annual average deseasonalized CO₂ concentration)\n",
    "\n",
    "deseasonalized_annual_average = filtered_data.groupby('Year')['deseasonalized'].mean().reset_index(name = 'deseasonalized_annual_average')\n",
    "print(deseasonalized_annual_average.head()) #same description as above but for deseasonalized column"
   ]
  },
  {
   "cell_type": "code",
   "execution_count": 54,
   "id": "283aec1b-b980-44cc-99d3-d23619f74c52",
   "metadata": {},
   "outputs": [
    {
     "name": "stdout",
     "output_type": "stream",
     "text": [
      "   Year  std_of_months\n",
      "0  1974       2.203789\n",
      "1  1975       1.943751\n",
      "2  1976       2.085610\n",
      "3  1977       1.931882\n",
      "4  1978       1.995014\n"
     ]
    }
   ],
   "source": [
    "# Compute Annual Statistics (standard deviation of the 12-month values)\n",
    "\n",
    "std_of_months = filtered_data.groupby('Year')['Monthly_average'].std().reset_index(name = 'std_of_months')\n",
    "print(std_of_months.head()) # same description as above but for monthly_average column and for standard deviation instead of mean"
   ]
  },
  {
   "cell_type": "code",
   "execution_count": 68,
   "id": "ced359e3-24aa-4050-bdec-94442955533c",
   "metadata": {},
   "outputs": [
    {
     "name": "stdout",
     "output_type": "stream",
     "text": [
      "   Year  annual_average  deseasonalized_annual_average  std_of_months  \\\n",
      "0  1974      329.763750                     330.346250       2.203789   \n",
      "1  1975      331.160909                     331.072727       1.943751   \n",
      "2  1976      332.026667                     332.028333       2.085610   \n",
      "3  1977      333.843333                     333.841667       1.931882   \n",
      "4  1978      335.415000                     335.413333       1.995014   \n",
      "\n",
      "  CO2_Category  \n",
      "0          Low  \n",
      "1          Low  \n",
      "2          Low  \n",
      "3          Low  \n",
      "4          Low  \n"
     ]
    }
   ],
   "source": [
    "# Apply Custom Function \n",
    "\n",
    "def CO2_category(CO2_level): # defining a custom function as CO2_category \n",
    "    if CO2_level < 350: # if CO2 leve is less than 350, new column will return output as \"Low\"\n",
    "        return 'Low'\n",
    "    elif 350 >= CO2_level >= 400: # if CO2 leve is between 350 and 400, new column will return output as \"Moderate\"\n",
    "        return 'Moderate'\n",
    "    else: # if CO2 leve is more than 400, new column will return output as \"High\"\n",
    "        return 'High' \n",
    "\n",
    "annual_stats = annual_average.merge(deseasonalized_annual_average, on = 'Year').merge(std_of_months, on = 'Year') # merges all individual dataframes into one name annual_stats\n",
    "annual_stats['CO2_Category'] = annual_stats['annual_average'].apply(CO2_category) # takes the 'annual_average' column from annual_stats dataframe and applies the defined function 'CO2_category' to it and then stores it as a new column called 'CO2_Category'\n",
    "\n",
    "print(annual_stats.head()) # the new column called 'CO2_Category' is saved within the 'annual_stats' dataframe "
   ]
  },
  {
   "cell_type": "code",
   "execution_count": 72,
   "id": "657a2ab4-1e18-4755-a773-dcf954b35875",
   "metadata": {},
   "outputs": [],
   "source": [
    "output_file = 'Feyereisen_MaunaLoaCO2_annual_Hw3.csv'\n",
    "annual_stats.to_csv(output_file, index=False)"
   ]
  }
 ],
 "metadata": {
  "kernelspec": {
   "display_name": "Python [conda env:base] *",
   "language": "python",
   "name": "conda-base-py"
  },
  "language_info": {
   "codemirror_mode": {
    "name": "ipython",
    "version": 3
   },
   "file_extension": ".py",
   "mimetype": "text/x-python",
   "name": "python",
   "nbconvert_exporter": "python",
   "pygments_lexer": "ipython3",
   "version": "3.12.7"
  }
 },
 "nbformat": 4,
 "nbformat_minor": 5
}
