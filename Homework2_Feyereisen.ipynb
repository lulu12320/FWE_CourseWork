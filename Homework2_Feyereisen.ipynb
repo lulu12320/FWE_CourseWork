{
  "nbformat": 4,
  "nbformat_minor": 0,
  "metadata": {
    "colab": {
      "provenance": []
    },
    "kernelspec": {
      "name": "python3",
      "display_name": "Python 3"
    },
    "language_info": {
      "name": "python"
    }
  },
  "cells": [
    {
      "cell_type": "code",
      "source": [
        "# this implements the bubble sorting algorithm that repeatedly swaps adjacent elements if they are in the wrong order\n",
        "def bubble_sort(arr):\n",
        "    n = len(arr)\n",
        "    for i in range(n):\n",
        "        swapped = False\n",
        "        for j in range(0, n - i - 1): # last i elements are already sorted\n",
        "            if arr[j] > arr[j + 1]: # swap if number is out of order\n",
        "                arr[j], arr[j + 1] = arr[j + 1], arr[j]\n",
        "                swapped = True\n",
        "        if not swapped: # if no swaps were made, list is already sorted\n",
        "            break\n",
        "    return arr\n",
        "\n",
        "# this implements the insertion sorting algorithm that builds the sorted sequence one element at a time by inserting elements in the correct position.\n",
        "def insertion_sort(arr):\n",
        "    for i in range(1, len(arr)):\n",
        "        key = arr[i] # element, i, will be inserted into sorted part\n",
        "        j = i - 1\n",
        "        while j >= 0 and arr[j] > key: # shift elements to make space for key\n",
        "            arr[j + 1] = arr[j]\n",
        "            j -= 1\n",
        "        arr[j + 1] = key # insert key in the correct position\n",
        "    return arr"
      ],
      "metadata": {
        "id": "TmiXMEdjpqFy"
      },
      "execution_count": null,
      "outputs": []
    },
    {
      "cell_type": "code",
      "source": [
        "import random\n",
        "\n",
        "L = random.sample(range(1, 100), 50)\n",
        "print(\"Original List:\")\n",
        "print(L) #generates a 50 element list, L, of random numbers between 1 and 100\n",
        "\n",
        "sorted_L1 = bubble_sort(L.copy())  #copy() = keeps the original list unchanged\n",
        "print(\"\\nBubble Sorted List:\")     #\\n creates a space between the outputs\n",
        "print(sorted_L1)\n",
        "\n",
        "sorted_L2 = insertion_sort(L.copy())\n",
        "print(\"\\nInsertion Sorted List\")\n",
        "print(sorted_L2)"
      ],
      "metadata": {
        "colab": {
          "base_uri": "https://localhost:8080/"
        },
        "id": "RqVmv_TQTztK",
        "outputId": "cc468d2e-0219-451e-ac47-531d7f5f6850"
      },
      "execution_count": null,
      "outputs": [
        {
          "output_type": "stream",
          "name": "stdout",
          "text": [
            "Original List:\n",
            "[85, 10, 70, 77, 65, 52, 43, 25, 41, 79, 96, 27, 90, 53, 64, 8, 21, 61, 76, 16, 28, 35, 68, 93, 59, 86, 29, 38, 83, 71, 62, 7, 12, 55, 80, 37, 60, 51, 34, 36, 44, 63, 73, 72, 50, 23, 1, 40, 6, 88]\n",
            "\n",
            "Bubble Sorted List:\n",
            "[1, 6, 7, 8, 10, 12, 16, 21, 23, 25, 27, 28, 29, 34, 35, 36, 37, 38, 40, 41, 43, 44, 50, 51, 52, 53, 55, 59, 60, 61, 62, 63, 64, 65, 68, 70, 71, 72, 73, 76, 77, 79, 80, 83, 85, 86, 88, 90, 93, 96]\n",
            "\n",
            "Insertion Sorted List\n",
            "[1, 6, 7, 8, 10, 12, 16, 21, 23, 25, 27, 28, 29, 34, 35, 36, 37, 38, 40, 41, 43, 44, 50, 51, 52, 53, 55, 59, 60, 61, 62, 63, 64, 65, 68, 70, 71, 72, 73, 76, 77, 79, 80, 83, 85, 86, 88, 90, 93, 96]\n"
          ]
        }
      ]
    }
  ]
}