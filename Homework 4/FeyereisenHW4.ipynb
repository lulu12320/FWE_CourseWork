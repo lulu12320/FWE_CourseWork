{
 "cells": [
  {
   "cell_type": "code",
   "execution_count": 278,
   "id": "76a272fc-0b06-4f19-b9d2-2b4da397277b",
   "metadata": {},
   "outputs": [],
   "source": [
    "import pandas as pd\n",
    "import numpy as np\n",
    "import scipy.optimize as opt\n",
    "from sklearn.linear_model import LinearRegression\n",
    "from sklearn.metrics import r2_score"
   ]
  },
  {
   "cell_type": "code",
   "execution_count": 279,
   "id": "bb87faa7-97e9-4d5a-b95d-ac6b9ad04f0f",
   "metadata": {},
   "outputs": [
    {
     "name": "stdout",
     "output_type": "stream",
     "text": [
      "/Users/luxifeyereisen/FWE438/Homework/Homework 4\n"
     ]
    }
   ],
   "source": [
    "import os\n",
    "print(os.getcwd()) #checking working directory "
   ]
  },
  {
   "cell_type": "code",
   "execution_count": 280,
   "id": "b2b97281-c9d1-43e6-a729-50a476e518b5",
   "metadata": {},
   "outputs": [],
   "source": [
    "file_path = 'Wcr_GPPdaily.csv' #load in dataset \n",
    "GPP = pd.read_csv(file_path)"
   ]
  },
  {
   "cell_type": "code",
   "execution_count": 281,
   "id": "90ca5352-ac8d-4c39-83cb-cd0274940522",
   "metadata": {},
   "outputs": [
    {
     "name": "stdout",
     "output_type": "stream",
     "text": [
      "       TA      SW    VPD       GPP\n",
      "0 -20.063  72.603  0.413 -0.517364\n",
      "1 -12.814  12.358  0.147 -0.094241\n",
      "2 -12.625  33.132  0.128 -0.166819\n",
      "3 -18.652  93.481  0.263 -0.582301\n",
      "4 -20.269  45.502  0.261 -0.568240\n"
     ]
    }
   ],
   "source": [
    "# Data Preprocessing\n",
    "# Rename Columns \n",
    "\n",
    "GPP.rename(columns={ #rename columns for easier reference\n",
    "    'TA_F': 'TA',\n",
    "    'SW_IN_F': 'SW',\n",
    "    'VPD_F': 'VPD',\n",
    "    'GPP_NT_VUT_REF': 'GPP'\n",
    "}, inplace=True)\n",
    "\n",
    "GPP.drop(columns=['TIMESTAMP'], errors='ignore', inplace=True) #drop timestamp column since it is not needed for regression\n",
    "# The 'errors' argument prevents errors if the column does not exist\n",
    "GPP.dropna(inplace=True) #drops any rows with Na values or NaNs\n",
    "\n",
    "print(GPP.head(5))"
   ]
  },
  {
   "cell_type": "code",
   "execution_count": 282,
   "id": "2cfebbec-d74d-458b-90db-7c8f1106e31c",
   "metadata": {},
   "outputs": [
    {
     "name": "stdout",
     "output_type": "stream",
     "text": [
      "       TA      SW    VPD       GPP     SW_VPD        SW_TA    VPD_TA\n",
      "0 -20.063  72.603  0.413 -0.517364  29.985039 -1456.633989 -8.286019\n",
      "1 -12.814  12.358  0.147 -0.094241   1.816626  -158.355412 -1.883658\n",
      "2 -12.625  33.132  0.128 -0.166819   4.240896  -418.291500 -1.616000\n",
      "3 -18.652  93.481  0.263 -0.582301  24.585503 -1743.607612 -4.905476\n",
      "4 -20.269  45.502  0.261 -0.568240  11.876022  -922.280038 -5.290209\n"
     ]
    }
   ],
   "source": [
    "# Feature Engineering - Interaction Terms\n",
    "\n",
    "GPP['SW_VPD'] = GPP['SW'] * GPP['VPD'] #interaction terms capture potential variable interactions to help analyze combined effects of different environmental factors\n",
    "GPP['SW_TA'] = GPP['SW'] * GPP['TA']\n",
    "GPP['VPD_TA'] = GPP['VPD'] * GPP['TA']\n",
    "\n",
    "print(GPP.head(5))"
   ]
  },
  {
   "cell_type": "code",
   "execution_count": 294,
   "id": "412a2e00-e46f-42e7-9a6e-7c96d8522867",
   "metadata": {},
   "outputs": [
    {
     "name": "stdout",
     "output_type": "stream",
     "text": [
      "Coefficients: [-3.24914968e+00 -6.48574173e+02  8.21699813e+01  1.79249151e+00\n",
      " -4.56050357e-01  1.35954025e+01]\n",
      "Intercept: -944.0672018208656\n",
      "R² Score: 0.013582700933255087\n"
     ]
    }
   ],
   "source": [
    "# Build a Linear Regression Model using SciPy Optimization\n",
    "\n",
    "X = GPP[['SW', 'VPD', 'TA', 'SW_VPD', 'SW_TA', 'VPD_TA']] #define independent (predictor)\n",
    "y = GPP['GPP'] #and the dependent (target) variables\n",
    "\n",
    "model = LinearRegression()\n",
    "model.fit(X, y) #adds an intercept column for the regression model\n",
    "\n",
    "coefficients = model.coef_\n",
    "intercept = model.intercept_\n",
    "\n",
    "y_pred = model.predict(X) #compute predictions using the linregress model which each prediction is weighted by its computed slope\n",
    "\n",
    "r2_score_value = r2_score(y, y_pred)\n",
    "\n",
    "print(\"Coefficients:\", coefficients)  # Slopes for each predictor\n",
    "print(\"Intercept:\", intercept)  # Bias term\n",
    "print(\"R² Score:\", r2_score_value)"
   ]
  },
  {
   "cell_type": "code",
   "execution_count": 284,
   "id": "dfd681dd-a585-4a16-b02d-de5da73f3d5f",
   "metadata": {},
   "outputs": [
    {
     "name": "stdout",
     "output_type": "stream",
     "text": [
      "Homework saved as Feyereisen_Wcr_GPPdaily_HW4.csv\n"
     ]
    }
   ],
   "source": [
    "GPP_results = pd.DataFrame({\n",
    "    'Actual_GPP': y,\n",
    "    'Predicted_GPP_Optimized': y_pred_opt,\n",
    "    'Predicted_GPP_Linregress': y_pred_linreg\n",
    "})\n",
    "\n",
    "csv_filename = 'Feyereisen_Wcr_GPPdaily_HW4.csv' # creates a csv file \n",
    "GPP_results.to_csv(csv_filename, index=False) # this adds the annual_stats data frame into the newly made csv file \n",
    "print(f\"Homework saved as {csv_filename}\")"
   ]
  }
 ],
 "metadata": {
  "kernelspec": {
   "display_name": "Python [conda env:base] *",
   "language": "python",
   "name": "conda-base-py"
  },
  "language_info": {
   "codemirror_mode": {
    "name": "ipython",
    "version": 3
   },
   "file_extension": ".py",
   "mimetype": "text/x-python",
   "name": "python",
   "nbconvert_exporter": "python",
   "pygments_lexer": "ipython3",
   "version": "3.12.7"
  }
 },
 "nbformat": 4,
 "nbformat_minor": 5
}
